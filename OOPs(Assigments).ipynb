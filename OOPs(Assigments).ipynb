{
  "nbformat": 4,
  "nbformat_minor": 0,
  "metadata": {
    "colab": {
      "provenance": []
    },
    "kernelspec": {
      "name": "python3",
      "display_name": "Python 3"
    },
    "language_info": {
      "name": "python"
    }
  },
  "cells": [
    {
      "cell_type": "markdown",
      "source": [
        " 1.What is Object-Oriented Programming (OOP)?"
      ],
      "metadata": {
        "id": "a9npZRrQEUXW"
      }
    },
    {
      "cell_type": "markdown",
      "source": [
        "ans:- Object oriented programming is a way of writing programs that organizes everything into object."
      ],
      "metadata": {
        "id": "jz26uFZUEZuc"
      }
    },
    {
      "cell_type": "markdown",
      "source": [
        "2. What is a class in OOP"
      ],
      "metadata": {
        "id": "zxadDFyaF37f"
      }
    },
    {
      "cell_type": "markdown",
      "source": [
        "ans:-class is a blueprint for creating object.it define the object and attributes."
      ],
      "metadata": {
        "id": "dgeACsmEF7Xe"
      }
    },
    {
      "cell_type": "markdown",
      "source": [
        "3. What is an object in OOP?"
      ],
      "metadata": {
        "id": "kycno3pFGVRT"
      }
    },
    {
      "cell_type": "markdown",
      "source": [
        "ans:-An object is a thing created from class.it has data (attributes)and and can do action (method)."
      ],
      "metadata": {
        "id": "mcIUVX5GGZIH"
      }
    },
    {
      "cell_type": "markdown",
      "source": [
        " 4.What is the difference between abstraction and encapsulation"
      ],
      "metadata": {
        "id": "fvTaQZCsHCLW"
      }
    },
    {
      "cell_type": "markdown",
      "source": [
        "ans:- abstraction:- show only important details and hide the complexity.\n",
        "      encapsulation:- Hide the data and protect it from unauthorized access."
      ],
      "metadata": {
        "id": "bjMCLbQgHFy0"
      }
    },
    {
      "cell_type": "markdown",
      "source": [
        " 5.What are dunder methods in Python"
      ],
      "metadata": {
        "id": "rb1dZAmVIO0C"
      }
    },
    {
      "cell_type": "markdown",
      "source": [
        "ans:-Dunder methods(short for double underscore method) in  Python are special methods with names surrounded by double underscores, like __init__ or __str__.Dunder methods add special functionality to your python class."
      ],
      "metadata": {
        "id": "TKSAbyS9IRx3"
      }
    },
    {
      "cell_type": "markdown",
      "source": [
        " 6.Explain the concept of inheritance in OOP"
      ],
      "metadata": {
        "id": "pyFYm8HUJI4-"
      }
    },
    {
      "cell_type": "markdown",
      "source": [
        "ans:- Inheritance in Object-Oriented Programming (OOP) is a way to create a new class (called a child class or subclass) based on an existing class (called a parent class or superclass).\n",
        "\n",
        "The child class inherits the attributes (data) and methods (actions) of the parent class, so you don’t have to rewrite code. It can also have its own unique features or override the parent’s features."
      ],
      "metadata": {
        "id": "8GKEHOHOJQbX"
      }
    },
    {
      "cell_type": "markdown",
      "source": [
        " 7.What is polymorphism in OOPs?"
      ],
      "metadata": {
        "id": "6JWsgMDqJ3fG"
      }
    },
    {
      "cell_type": "markdown",
      "source": [
        "ans:-Polymorphism in Object-Oriented Programming (OOP) means \"many forms.\" It allows objects of different classes to be treated as if they are of the same class because they share the same interface or behavior."
      ],
      "metadata": {
        "id": "SpKeGo7SKOQM"
      }
    },
    {
      "cell_type": "markdown",
      "source": [
        "8.How is encapsulation achieved in Python"
      ],
      "metadata": {
        "id": "7HL03nIFKc6I"
      }
    },
    {
      "cell_type": "markdown",
      "source": [
        "Encapsulation in Python is achieved by using private attributes (__) and controlling access with getter and setter methods."
      ],
      "metadata": {
        "id": "KCOCghpZLIxM"
      }
    },
    {
      "cell_type": "markdown",
      "source": [
        " 9.What is a constructor in Python"
      ],
      "metadata": {
        "id": "eCDBrEi4L0pu"
      }
    },
    {
      "cell_type": "markdown",
      "source": [
        "ans:-A constructor in Python is a special method used to initialize an object when it is created. It allows you to set up an object’s attributes with initial values. In Python, the constructor method is named __init__."
      ],
      "metadata": {
        "id": "MFnXhVIvL4HN"
      }
    },
    {
      "cell_type": "markdown",
      "source": [
        "10. What are class and static methods in Python?"
      ],
      "metadata": {
        "id": "wcpS_yqpMFet"
      }
    },
    {
      "cell_type": "markdown",
      "source": [
        "ans:-Class methods work with the class itself and use cls.\n",
        "Static methods are independent utility methods that don’t access the class or its instances."
      ],
      "metadata": {
        "id": "xVJ78o0aMJbQ"
      }
    },
    {
      "cell_type": "markdown",
      "source": [
        "11.What is method overloading in Python?"
      ],
      "metadata": {
        "id": "x-FDL87oMW3p"
      }
    },
    {
      "cell_type": "markdown",
      "source": [
        "Python doesn’t support traditional method overloading. Instead, you can achieve similar functionality using default arguments, variable arguments, or manual checks."
      ],
      "metadata": {
        "id": "M4uwQUmiMd_I"
      }
    },
    {
      "cell_type": "markdown",
      "source": [
        "12. What is method overriding in OOP"
      ],
      "metadata": {
        "id": "oZPMGeUCMny-"
      }
    },
    {
      "cell_type": "markdown",
      "source": [
        "ans:- Method overriding in Object-Oriented Programming (OOP) occurs when a child class provides a new implementation for a method that is already defined in its parent class. The new method in the child class overrides the one in the parent class."
      ],
      "metadata": {
        "id": "NeTXQrM_Ms8P"
      }
    },
    {
      "cell_type": "markdown",
      "source": [
        "13.What is a property decorator in Python?"
      ],
      "metadata": {
        "id": "VvYmt9KWM1n-"
      }
    },
    {
      "cell_type": "markdown",
      "source": [
        "ans:-The @property decorator makes a method behave like an attribute, enabling controlled access to data (with optional logic for getting, setting, or deleting)."
      ],
      "metadata": {
        "id": "flVyiVK9M7mc"
      }
    },
    {
      "cell_type": "markdown",
      "source": [
        "14. Why is polymorphism important in OOP?"
      ],
      "metadata": {
        "id": "rgodSsWTNLEd"
      }
    },
    {
      "cell_type": "markdown",
      "source": [
        "ans:-Polymorphism is important because it makes software more adaptable, reusable, and easier to extend, allowing different objects to be used interchangeably while performing behavior specific to their type."
      ],
      "metadata": {
        "id": "6lcGPCjyNOIY"
      }
    },
    {
      "cell_type": "markdown",
      "source": [
        "15.What is an abstract class in Python"
      ],
      "metadata": {
        "id": "88CvSLzrNd_I"
      }
    },
    {
      "cell_type": "markdown",
      "source": [
        "ans:-An abstract class in Python is a special type of class that acts as a template for other classes. You cannot create objects of an abstract class directly. Instead, it is meant to be inherited by other classes, which then implement its methods."
      ],
      "metadata": {
        "id": "ZTwADAHXNheT"
      }
    },
    {
      "cell_type": "markdown",
      "source": [
        "16. What are the advantages of OOP?"
      ],
      "metadata": {
        "id": "-bR3opD2NvvI"
      }
    },
    {
      "cell_type": "markdown",
      "source": [
        "ans:-OOP makes code more organized, reusable, scalable, and easier to maintain, while also making programs more intuitive by modeling real-world concepts."
      ],
      "metadata": {
        "id": "lyryLQD1N4Jv"
      }
    },
    {
      "cell_type": "markdown",
      "source": [
        "17.What is the difference between a class variable and an instance variable"
      ],
      "metadata": {
        "id": "ko9QGhZHN_Mn"
      }
    },
    {
      "cell_type": "markdown",
      "source": [
        "ans:- A class variable is shared by all objects of the class.\n",
        "An instance variable is unique to each object."
      ],
      "metadata": {
        "id": "s3uIHQMEOD_Z"
      }
    },
    {
      "cell_type": "markdown",
      "source": [
        "18.What is multiple inheritance in Python?"
      ],
      "metadata": {
        "id": "7T8fnVTWOQjq"
      }
    },
    {
      "cell_type": "markdown",
      "source": [
        "ans:- Multiple inheritance in Python means that a class can inherit from more than one parent class. This allows the child class to access the properties and methods of all its parent classes."
      ],
      "metadata": {
        "id": "H8EDQhlfOaYv"
      }
    },
    {
      "cell_type": "markdown",
      "source": [
        "19. Explain the purpose of ‘’__str__’ and ‘__repr__’ ‘ methods in Python"
      ],
      "metadata": {
        "id": "_gDJXHfSOf8L"
      }
    },
    {
      "cell_type": "markdown",
      "source": [
        "ans:- __str__: For end-users; creates a nice, readable description of the object.\n",
        "__repr__: For developers; provides a precise and unambiguous representation, often for debugging."
      ],
      "metadata": {
        "id": "DJwnonheOvmN"
      }
    },
    {
      "cell_type": "markdown",
      "source": [
        "20.What is the significance of the ‘super()’ function in Python"
      ],
      "metadata": {
        "id": "XVyu_QqLPBVG"
      }
    },
    {
      "cell_type": "markdown",
      "source": [
        "The super() function in Python is used to call a method from the parent class (or superclass) in a child class. It is most commonly used to extend or modify the behavior of inherited methods.\n"
      ],
      "metadata": {
        "id": "wG1wble0PGiV"
      }
    },
    {
      "cell_type": "markdown",
      "source": [
        "21. What is the significance of the __del__ method in Python"
      ],
      "metadata": {
        "id": "AtqUEbt7PNaA"
      }
    },
    {
      "cell_type": "markdown",
      "source": [
        "The __del__ method in Python is a special method that is called when an object is about to be destroyed (or deleted) by Python's garbage collector. It’s like a cleanup function that lets you define what should happen when the object is no longer needed."
      ],
      "metadata": {
        "id": "mKMWWmG-PUGC"
      }
    },
    {
      "cell_type": "markdown",
      "source": [
        "22.What is the difference between @staticmethod and @classmethod in Python"
      ],
      "metadata": {
        "id": "9RI1W5sEPZBi"
      }
    },
    {
      "cell_type": "markdown",
      "source": [
        "Use @staticmethod for methods that don’t need to know anything about the class or its instances.\n",
        "Use @classmethod for methods that need to access or modify the class itself."
      ],
      "metadata": {
        "id": "3m_oqng6PeIk"
      }
    },
    {
      "cell_type": "markdown",
      "source": [
        "23.How does polymorphism work in Python with inheritance?"
      ],
      "metadata": {
        "id": "5O4tQ0FCPkne"
      }
    },
    {
      "cell_type": "markdown",
      "source": [
        "Polymorphism in Python means that the same function or method can behave differently depending on the object that calls it. With inheritance, polymorphism allows objects of different classes to be treated as if they are objects of a common parent class, and their behavior is determined by their specific class."
      ],
      "metadata": {
        "id": "8JJ7Dp_FPwih"
      }
    },
    {
      "cell_type": "markdown",
      "source": [
        "24. What is method chaining in Python OOP"
      ],
      "metadata": {
        "id": "_BVbKzaYQBT2"
      }
    },
    {
      "cell_type": "markdown",
      "source": [
        "Method chaining in Python means calling multiple methods on the same object in a single statement. Each method returns the object itself (or something that allows further calls), so you can \"chain\" the calls together."
      ],
      "metadata": {
        "id": "9QUTjGeRQKU8"
      }
    },
    {
      "cell_type": "markdown",
      "source": [
        "25.What is the purpose of the __call__ method in Python"
      ],
      "metadata": {
        "id": "25vU9yWbQL6O"
      }
    },
    {
      "cell_type": "markdown",
      "source": [
        "The __call__ method in Python is a special method that allows an object of a class to be used like a function. When you define __call__ in a class, you can \"call\" its objects as if they were functions.\n",
        "\n"
      ],
      "metadata": {
        "id": "Jfi7AhtCQQs7"
      }
    },
    {
      "cell_type": "markdown",
      "source": [
        "practical questions\n"
      ],
      "metadata": {
        "id": "DzfvP_VeQdGV"
      }
    },
    {
      "cell_type": "markdown",
      "source": [],
      "metadata": {
        "id": "TVBjcxoEQkc4"
      }
    },
    {
      "cell_type": "markdown",
      "source": [
        "1. Create a parent class Animal with a method speak() that prints a generic message. Create a child class Dog\n",
        "that overrides the speak() method to print \"Bark!\""
      ],
      "metadata": {
        "id": "DYG6aA9bQsOj"
      }
    },
    {
      "cell_type": "code",
      "source": [
        "class Animal:\n",
        "    def speak(self):\n",
        "        print(\"This is a generic animal sound.\")\n",
        "\n",
        "class Dog(Animal):\n",
        "    def speak(self):\n",
        "        print(\"Bark!\")\n",
        "\n"
      ],
      "metadata": {
        "id": "SXCBhLlQQvl0"
      },
      "execution_count": 2,
      "outputs": []
    },
    {
      "cell_type": "code",
      "source": [
        "dog = Dog()\n",
        "dog.speak()"
      ],
      "metadata": {
        "colab": {
          "base_uri": "https://localhost:8080/"
        },
        "id": "3EUvldGGQ8qE",
        "outputId": "ea3c7343-3aa4-46d8-c0c5-d660fec2a049"
      },
      "execution_count": 3,
      "outputs": [
        {
          "output_type": "stream",
          "name": "stdout",
          "text": [
            "Bark!\n"
          ]
        }
      ]
    },
    {
      "cell_type": "markdown",
      "source": [
        "2.Write a program to create an abstract class Shape with a method area(). Derive classes Circle and Rectangle\n",
        "from it and implement the area() method in both"
      ],
      "metadata": {
        "id": "z-l1R23wRAxn"
      }
    },
    {
      "cell_type": "code",
      "source": [
        "from abc import ABC, abstractmethod\n",
        "\n",
        "class Shape(ABC):\n",
        "    @abstractmethod\n",
        "    def area(self):\n",
        "        pass\n",
        "\n",
        "class Circle(Shape):\n",
        "    def __init__(self, radius):\n",
        "        self.radius = radius\n",
        "\n",
        "    def area(self):\n",
        "        return 3.14 * self.radius * self.radius\n",
        "\n",
        "class Rectangle(Shape):\n",
        "    def __init__(self, width, height):\n",
        "        self.width = width\n",
        "        self.height = height\n",
        "\n",
        "    def area(self):\n",
        "        return self.width * self.height\n",
        "\n",
        "\n"
      ],
      "metadata": {
        "id": "Q4dIX6rhRGYM"
      },
      "execution_count": 4,
      "outputs": []
    },
    {
      "cell_type": "code",
      "source": [
        "circle = Circle(5)\n",
        "rectangle = Rectangle(4, 6)\n",
        "print(circle.area())\n",
        "print(rectangle.area())"
      ],
      "metadata": {
        "colab": {
          "base_uri": "https://localhost:8080/"
        },
        "id": "zQZCEjpHRWVq",
        "outputId": "2aaf29aa-8fa2-4133-c609-f708f1f2b346"
      },
      "execution_count": 5,
      "outputs": [
        {
          "output_type": "stream",
          "name": "stdout",
          "text": [
            "78.5\n",
            "24\n"
          ]
        }
      ]
    },
    {
      "cell_type": "markdown",
      "source": [
        " 3.Implement a multi-level inheritance scenario where a class Vehicle has an attribute type. Derive a class Car\n",
        "and further derive a class ElectricCar that adds a battery attribute"
      ],
      "metadata": {
        "id": "SnQA7nMnRcof"
      }
    },
    {
      "cell_type": "code",
      "source": [
        "class Vehicle:\n",
        "    def __init__(self, vehicle_type):\n",
        "        self.type = vehicle_type\n",
        "\n",
        "class Car(Vehicle):\n",
        "    def __init__(self, vehicle_type, brand):\n",
        "        super().__init__(vehicle_type)\n",
        "        self.brand = brand\n",
        "\n",
        "class ElectricCar(Car):\n",
        "    def __init__(self, vehicle_type, brand, battery):\n",
        "        super().__init__(vehicle_type, brand)\n",
        "        self.battery = battery\n",
        "\n",
        "\n"
      ],
      "metadata": {
        "id": "YUPJP-j5RiCy"
      },
      "execution_count": 6,
      "outputs": []
    },
    {
      "cell_type": "code",
      "source": [
        "e_car = ElectricCar(\"Car\", \"Tesla\", \"100 kWh\")\n",
        "print(e_car.type, e_car.brand, e_car.battery)"
      ],
      "metadata": {
        "colab": {
          "base_uri": "https://localhost:8080/"
        },
        "id": "AFSJE-AjRp3R",
        "outputId": "a9a1798b-53bb-47d0-ebad-fce9f86d6272"
      },
      "execution_count": 7,
      "outputs": [
        {
          "output_type": "stream",
          "name": "stdout",
          "text": [
            "Car Tesla 100 kWh\n"
          ]
        }
      ]
    },
    {
      "cell_type": "markdown",
      "source": [
        "4. Demonstrate polymorphism by creating a base class Bird with a method fly(). Create two derived classes\n",
        "Sparrow and Penguin that override the fly() method."
      ],
      "metadata": {
        "id": "0KoL2OIARrsU"
      }
    },
    {
      "cell_type": "code",
      "source": [
        "class Bird:\n",
        "    def fly(self):\n",
        "        print(\"Some birds can fly.\")\n",
        "\n",
        "class Sparrow(Bird):\n",
        "    def fly(self):\n",
        "        print(\"Sparrow flies high.\")\n",
        "\n",
        "class Penguin(Bird):\n",
        "    def fly(self):\n",
        "        print(\"Penguins cannot fly.\")\n",
        "\n"
      ],
      "metadata": {
        "id": "SikhVRzARzkc"
      },
      "execution_count": 8,
      "outputs": []
    },
    {
      "cell_type": "code",
      "source": [
        "birds = [Sparrow(), Penguin()]\n",
        "for bird in birds:\n",
        "    bird.fly()\n"
      ],
      "metadata": {
        "colab": {
          "base_uri": "https://localhost:8080/"
        },
        "id": "gagmTog1R3Fg",
        "outputId": "ed445ab4-08a2-4ecc-c728-09ea348eec4a"
      },
      "execution_count": 9,
      "outputs": [
        {
          "output_type": "stream",
          "name": "stdout",
          "text": [
            "Sparrow flies high.\n",
            "Penguins cannot fly.\n"
          ]
        }
      ]
    },
    {
      "cell_type": "markdown",
      "source": [
        "5. Write a program to demonstrate encapsulation by creating a class BankAccount with private attributes\n",
        "balance and methods to deposit, withdraw, and check balance"
      ],
      "metadata": {
        "id": "KnmDcf3IR4c8"
      }
    },
    {
      "cell_type": "code",
      "source": [
        "class BankAccount:\n",
        "    def __init__(self):\n",
        "        self.__balance = 0\n",
        "\n",
        "    def deposit(self, amount):\n",
        "        self.__balance += amount\n",
        "\n",
        "    def withdraw(self, amount):\n",
        "        if amount <= self.__balance:\n",
        "            self.__balance -= amount\n",
        "        else:\n",
        "            print(\"Insufficient balance!\")\n",
        "\n",
        "    def get_balance(self):\n",
        "        return self.__balance\n"
      ],
      "metadata": {
        "id": "nhXMHqhyR6O0"
      },
      "execution_count": 10,
      "outputs": []
    },
    {
      "cell_type": "code",
      "source": [
        "account = BankAccount()\n",
        "account.deposit(100)\n",
        "account.withdraw(30)\n",
        "print(account.get_balance())"
      ],
      "metadata": {
        "colab": {
          "base_uri": "https://localhost:8080/"
        },
        "id": "Q318RoJGR_Qq",
        "outputId": "35e6acb8-5887-45c7-ba5f-803157251236"
      },
      "execution_count": 11,
      "outputs": [
        {
          "output_type": "stream",
          "name": "stdout",
          "text": [
            "70\n"
          ]
        }
      ]
    },
    {
      "cell_type": "markdown",
      "source": [
        " 6.Demonstrate runtime polymorphism using a method play() in a base class Instrument. Derive classes Guitar\n",
        "and Piano that implement their own version of play()"
      ],
      "metadata": {
        "id": "xqhpDtJ2SA4V"
      }
    },
    {
      "cell_type": "code",
      "source": [
        "class Instrument:\n",
        "    def play(self):\n",
        "        print(\"Playing an instrument.\")\n",
        "\n",
        "class Guitar(Instrument):\n",
        "    def play(self):\n",
        "        print(\"Strumming the guitar.\")\n",
        "\n",
        "class Piano(Instrument):\n",
        "    def play(self):\n",
        "        print(\"Playing the piano.\")\n",
        "\n"
      ],
      "metadata": {
        "id": "gJdUHTG8SEDz"
      },
      "execution_count": 12,
      "outputs": []
    },
    {
      "cell_type": "code",
      "source": [
        "instruments = [Guitar(), Piano()]\n",
        "for instrument in instruments:\n",
        "    instrument.play()"
      ],
      "metadata": {
        "colab": {
          "base_uri": "https://localhost:8080/"
        },
        "id": "9GFI25RaSG8L",
        "outputId": "41865949-35d7-4e9e-f614-430769ed7d6c"
      },
      "execution_count": 13,
      "outputs": [
        {
          "output_type": "stream",
          "name": "stdout",
          "text": [
            "Strumming the guitar.\n",
            "Playing the piano.\n"
          ]
        }
      ]
    },
    {
      "cell_type": "markdown",
      "source": [
        " 7. Create a class MathOperations with a class method add_numbers() to add two numbers and a static\n",
        "method subtract_numbers() to subtract two numbers"
      ],
      "metadata": {
        "id": "DwLTf8knSImx"
      }
    },
    {
      "cell_type": "code",
      "source": [
        "class MathOperations:\n",
        "    @classmethod\n",
        "    def add_numbers(cls, a, b):\n",
        "        return a + b\n",
        "\n",
        "    @staticmethod\n",
        "    def subtract_numbers(a, b):\n",
        "        return a - b\n"
      ],
      "metadata": {
        "id": "-Bjzw3sFSLGd"
      },
      "execution_count": 14,
      "outputs": []
    },
    {
      "cell_type": "code",
      "source": [
        "print(MathOperations.add_numbers(5, 3))\n",
        "print(MathOperations.subtract_numbers(5, 3))\n"
      ],
      "metadata": {
        "colab": {
          "base_uri": "https://localhost:8080/"
        },
        "id": "UatEWwHbSOx6",
        "outputId": "ab1ba823-c6f5-4016-9dc8-a8037baa0ebb"
      },
      "execution_count": 15,
      "outputs": [
        {
          "output_type": "stream",
          "name": "stdout",
          "text": [
            "8\n",
            "2\n"
          ]
        }
      ]
    },
    {
      "cell_type": "markdown",
      "source": [
        " 8. Implement a class Person with a class method to count the total number of persons created"
      ],
      "metadata": {
        "id": "ZOoVHHY2SRwm"
      }
    },
    {
      "cell_type": "code",
      "source": [
        "class Person:\n",
        "    count = 0\n",
        "\n",
        "    def __init__(self, name):\n",
        "        self.name = name\n",
        "        Person.count += 1\n",
        "\n",
        "    @classmethod\n",
        "    def total_persons(cls):\n",
        "        return cls.count\n",
        "\n"
      ],
      "metadata": {
        "id": "SwULkKDFSUYM"
      },
      "execution_count": 16,
      "outputs": []
    },
    {
      "cell_type": "code",
      "source": [
        "p1 = Person(\"Alice\")\n",
        "p2 = Person(\"Bob\")\n",
        "print(Person.total_persons())"
      ],
      "metadata": {
        "colab": {
          "base_uri": "https://localhost:8080/"
        },
        "id": "L-A8KgMdSXCS",
        "outputId": "f86a581b-e90a-4eb6-dcd2-59152372b550"
      },
      "execution_count": 17,
      "outputs": [
        {
          "output_type": "stream",
          "name": "stdout",
          "text": [
            "2\n"
          ]
        }
      ]
    },
    {
      "cell_type": "markdown",
      "source": [
        " 9. Write a class Fraction with attributes numerator and denominator. Override the str method to display the\n",
        "fraction as \"numerator/denominator\""
      ],
      "metadata": {
        "id": "JLTpWCKKSZGW"
      }
    },
    {
      "cell_type": "code",
      "source": [
        "class Fraction:\n",
        "    def __init__(self, numerator, denominator):\n",
        "        self.numerator = numerator\n",
        "        self.denominator = denominator\n",
        "\n",
        "    def __str__(self):\n",
        "        return f\"{self.numerator}/{self.denominator}\"\n",
        "\n"
      ],
      "metadata": {
        "id": "5BZgr3JaSbcP"
      },
      "execution_count": 19,
      "outputs": []
    },
    {
      "cell_type": "code",
      "source": [
        "f = Fraction(3, 4)\n",
        "print(f)"
      ],
      "metadata": {
        "colab": {
          "base_uri": "https://localhost:8080/"
        },
        "id": "cBtaDfsJSiCt",
        "outputId": "751b396c-0163-4fbf-9b0e-34dab9808d48"
      },
      "execution_count": 20,
      "outputs": [
        {
          "output_type": "stream",
          "name": "stdout",
          "text": [
            "3/4\n"
          ]
        }
      ]
    },
    {
      "cell_type": "markdown",
      "source": [
        " 10. Demonstrate operator overloading by creating a class Vector and overriding the add method to add two\n",
        "vectors"
      ],
      "metadata": {
        "id": "IzGdxofhSogl"
      }
    },
    {
      "cell_type": "code",
      "source": [
        "class Vector:\n",
        "    def __init__(self, x, y):\n",
        "        self.x = x\n",
        "        self.y = y\n",
        "\n",
        "    def __add__(self, other):\n",
        "        return Vector(self.x + other.x, self.y + other.y)\n",
        "\n",
        "    def __str__(self):\n",
        "        return f\"({self.x}, {self.y})\"\n"
      ],
      "metadata": {
        "id": "Z_4BkWK6Sqbm"
      },
      "execution_count": 21,
      "outputs": []
    },
    {
      "cell_type": "code",
      "source": [
        "v1 = Vector(1, 2)\n",
        "v2 = Vector(3, 4)\n",
        "print(v1 + v2)"
      ],
      "metadata": {
        "colab": {
          "base_uri": "https://localhost:8080/"
        },
        "id": "1cQ4I_2aStRN",
        "outputId": "ee1cdfd3-4364-4fd5-e683-462fe5ecf678"
      },
      "execution_count": 22,
      "outputs": [
        {
          "output_type": "stream",
          "name": "stdout",
          "text": [
            "(4, 6)\n"
          ]
        }
      ]
    },
    {
      "cell_type": "markdown",
      "source": [
        " 11. Create a class Person with attributes name and age. Add a method greet() that prints \"Hello, my name is\n",
        "{name} and I am {age} years old."
      ],
      "metadata": {
        "id": "y8-MxrmjSvSg"
      }
    },
    {
      "cell_type": "code",
      "source": [
        "class Person:\n",
        "    def __init__(self, name, age):\n",
        "        self.name = name\n",
        "        self.age = age\n",
        "\n",
        "    def greet(self):\n",
        "        print(f\"Hello, my name is {self.name} and I am {self.age} years old.\")\n"
      ],
      "metadata": {
        "id": "96xOZHKMSxw2"
      },
      "execution_count": 23,
      "outputs": []
    },
    {
      "cell_type": "code",
      "source": [
        "p = Person(\"Alice\", 30)\n",
        "p.greet()"
      ],
      "metadata": {
        "colab": {
          "base_uri": "https://localhost:8080/"
        },
        "id": "puY1BWJDS1UU",
        "outputId": "54b0608b-6440-46f3-a5b3-cf653fd77a79"
      },
      "execution_count": 24,
      "outputs": [
        {
          "output_type": "stream",
          "name": "stdout",
          "text": [
            "Hello, my name is Alice and I am 30 years old.\n"
          ]
        }
      ]
    },
    {
      "cell_type": "markdown",
      "source": [
        " 12. Implement a class Student with attributes name and grades. Create a method average_grade() to compute\n",
        "the average of the grades"
      ],
      "metadata": {
        "id": "zWV1WzqVS3ll"
      }
    },
    {
      "cell_type": "code",
      "source": [
        "class Student:\n",
        "    def __init__(self, name, grades):\n",
        "        self.name = name\n",
        "        self.grades = grades\n",
        "\n",
        "    def average_grade(self):\n",
        "        return sum(self.grades) / len(self.grades)\n"
      ],
      "metadata": {
        "id": "YnW2ovDlS5uY"
      },
      "execution_count": 25,
      "outputs": []
    },
    {
      "cell_type": "code",
      "source": [
        "s = Student(\"Alice\", [80, 90, 85])\n",
        "print(s.average_grade())"
      ],
      "metadata": {
        "colab": {
          "base_uri": "https://localhost:8080/"
        },
        "id": "riJYKWQsS-Lt",
        "outputId": "06a045b1-2aec-4767-e14e-6ee96f6d14d2"
      },
      "execution_count": 26,
      "outputs": [
        {
          "output_type": "stream",
          "name": "stdout",
          "text": [
            "85.0\n"
          ]
        }
      ]
    },
    {
      "cell_type": "markdown",
      "source": [
        " 13. Create a class Rectangle with methods set_dimensions() to set the dimensions and area() to calculate the\n",
        "area"
      ],
      "metadata": {
        "id": "PB7BMNpSTAAR"
      }
    },
    {
      "cell_type": "code",
      "source": [
        "class Rectangle:\n",
        "    def set_dimensions(self, width, height):\n",
        "        self.width = width\n",
        "        self.height = height\n",
        "\n",
        "    def area(self):\n",
        "        return self.width * self.height\n"
      ],
      "metadata": {
        "id": "2Q-GbMlrTC2s"
      },
      "execution_count": 27,
      "outputs": []
    },
    {
      "cell_type": "code",
      "source": [
        "r = Rectangle()\n",
        "r.set_dimensions(4, 5)\n",
        "print(r.area())"
      ],
      "metadata": {
        "colab": {
          "base_uri": "https://localhost:8080/"
        },
        "id": "PuSj88lGTGSy",
        "outputId": "9148b646-cb8c-4561-f85e-7ee2518937dc"
      },
      "execution_count": 28,
      "outputs": [
        {
          "output_type": "stream",
          "name": "stdout",
          "text": [
            "20\n"
          ]
        }
      ]
    },
    {
      "cell_type": "markdown",
      "source": [
        "14. Create a class Employee with a method calculate_salary() that computes the salary based on hours worked\n",
        "and hourly rate. Create a derived class Manager that adds a bonus to the salary"
      ],
      "metadata": {
        "id": "lq003D8HTIYI"
      }
    },
    {
      "cell_type": "code",
      "source": [
        "class Employee:\n",
        "    def calculate_salary(self, hours, rate):\n",
        "        return hours * rate\n",
        "\n",
        "class Manager(Employee):\n",
        "    def calculate_salary(self, hours, rate, bonus):\n",
        "        return super().calculate_salary(hours, rate) + bonus\n",
        "\n"
      ],
      "metadata": {
        "id": "OFOcBRNUTK4G"
      },
      "execution_count": 29,
      "outputs": []
    },
    {
      "cell_type": "code",
      "source": [
        "m = Manager()\n",
        "print(m.calculate_salary(40, 20, 100))"
      ],
      "metadata": {
        "colab": {
          "base_uri": "https://localhost:8080/"
        },
        "id": "jSj4ruFXTOxf",
        "outputId": "f49058ec-67ea-4250-b831-f6ff6d017176"
      },
      "execution_count": 30,
      "outputs": [
        {
          "output_type": "stream",
          "name": "stdout",
          "text": [
            "900\n"
          ]
        }
      ]
    },
    {
      "cell_type": "markdown",
      "source": [
        "15. Create a class Product with attributes name, price, and quantity. Implement a method total_price() that\n",
        "calculates the total price of the product"
      ],
      "metadata": {
        "id": "fKIxRpYHTSBe"
      }
    },
    {
      "cell_type": "code",
      "source": [
        "class Product:\n",
        "    def __init__(self, name, price, quantity):\n",
        "        self.name = name\n",
        "        self.price = price\n",
        "        self.quantity = quantity\n",
        "\n",
        "    def total_price(self):\n",
        "        return self.price * self.quantity\n",
        "\n",
        "\n"
      ],
      "metadata": {
        "id": "ZTbhch8GTSwe"
      },
      "execution_count": 31,
      "outputs": []
    },
    {
      "cell_type": "code",
      "source": [
        "p = Product(\"Laptop\", 1000, 2)\n",
        "print(p.total_price())"
      ],
      "metadata": {
        "colab": {
          "base_uri": "https://localhost:8080/"
        },
        "id": "RKuAZQrNTVLP",
        "outputId": "869a8e6f-5ec5-406a-932f-e4284b25a50d"
      },
      "execution_count": 32,
      "outputs": [
        {
          "output_type": "stream",
          "name": "stdout",
          "text": [
            "2000\n"
          ]
        }
      ]
    },
    {
      "cell_type": "markdown",
      "source": [
        " 16. Create a class Animal with an abstract method sound(). Create two derived classes Cow and Sheep that\n",
        "implement the sound() method"
      ],
      "metadata": {
        "id": "mkrfYytmTWqy"
      }
    },
    {
      "cell_type": "code",
      "source": [
        "from abc import ABC, abstractmethod\n",
        "\n",
        "class Animal(ABC):\n",
        "    @abstractmethod\n",
        "    def sound(self):\n",
        "        pass\n",
        "\n",
        "class Cow(Animal):\n",
        "    def sound(self):\n",
        "        return \"Moo\"\n",
        "\n",
        "class Sheep(Animal):\n",
        "    def sound(self):\n",
        "        return \"Baa\"\n",
        "\n",
        "\n"
      ],
      "metadata": {
        "id": "Mvi-kxqJTYXu"
      },
      "execution_count": 33,
      "outputs": []
    },
    {
      "cell_type": "code",
      "source": [
        "cow = Cow()\n",
        "sheep = Sheep()\n",
        "print(cow.sound())\n",
        "print(sheep.sound())"
      ],
      "metadata": {
        "colab": {
          "base_uri": "https://localhost:8080/"
        },
        "id": "sdIJPMHdTbLj",
        "outputId": "60870454-2155-4c9a-a6c6-32c24f59752c"
      },
      "execution_count": 34,
      "outputs": [
        {
          "output_type": "stream",
          "name": "stdout",
          "text": [
            "Moo\n",
            "Baa\n"
          ]
        }
      ]
    },
    {
      "cell_type": "markdown",
      "source": [
        " 17. Create a class Book with attributes title, author, and year_published. Add a method get_book_info() that\n",
        "returns a formatted string with the book's details"
      ],
      "metadata": {
        "id": "M2NJUT6bTe_j"
      }
    },
    {
      "cell_type": "code",
      "source": [
        "class Book:\n",
        "    def __init__(self, title, author, year_published):\n",
        "        self.title = title\n",
        "        self.author = author\n",
        "        self.year_published = year_published\n",
        "\n",
        "    def get_book_info(self):\n",
        "        return f\"{self.title} by {self.author}, published in {self.year_published}\"\n",
        "\n"
      ],
      "metadata": {
        "id": "mPSaOQH7Tftt"
      },
      "execution_count": 35,
      "outputs": []
    },
    {
      "cell_type": "code",
      "source": [
        "book = Book(\"1984\", \"George Orwell\", 1949)\n",
        "print(book.get_book_info())"
      ],
      "metadata": {
        "colab": {
          "base_uri": "https://localhost:8080/"
        },
        "id": "t-V2zQsTTkFT",
        "outputId": "028284f5-2f4a-4c9f-a20f-a14fd0a3f454"
      },
      "execution_count": 36,
      "outputs": [
        {
          "output_type": "stream",
          "name": "stdout",
          "text": [
            "1984 by George Orwell, published in 1949\n"
          ]
        }
      ]
    },
    {
      "cell_type": "markdown",
      "source": [
        " 18. Create a class House with attributes address and price. Create a derived class Mansion that adds an\n",
        "attribute number_of_rooms"
      ],
      "metadata": {
        "id": "z8OAq1kHTl2A"
      }
    },
    {
      "cell_type": "code",
      "source": [
        "class House:\n",
        "    def __init__(self, address, price):\n",
        "        self.address = address\n",
        "        self.price = price\n",
        "\n",
        "class Mansion(House):\n",
        "    def __init__(self, address, price, number_of_rooms):\n",
        "        super().__init__(address, price)\n",
        "        self.number_of_rooms = number_of_rooms\n",
        "\n",
        "\n"
      ],
      "metadata": {
        "id": "I9SxuP67Tnw-"
      },
      "execution_count": 37,
      "outputs": []
    },
    {
      "cell_type": "code",
      "source": [
        "m = Mansion(\"123 Luxury St\", 1000000, 10)\n",
        "print(m.address, m.price, m.number_of_rooms)  # Output: 123 Luxury St 1000000 10"
      ],
      "metadata": {
        "colab": {
          "base_uri": "https://localhost:8080/"
        },
        "id": "Gejg66rbTq_x",
        "outputId": "1eed6187-57ec-4b28-f7dc-41f8cf8d7c4e"
      },
      "execution_count": 38,
      "outputs": [
        {
          "output_type": "stream",
          "name": "stdout",
          "text": [
            "123 Luxury St 1000000 10\n"
          ]
        }
      ]
    }
  ]
}